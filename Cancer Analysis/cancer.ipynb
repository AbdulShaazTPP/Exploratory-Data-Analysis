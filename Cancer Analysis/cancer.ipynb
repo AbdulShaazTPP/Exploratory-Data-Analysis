{
 "cells": [
  {
   "cell_type": "code",
   "execution_count": 93,
   "id": "5e3ae4b2",
   "metadata": {},
   "outputs": [],
   "source": [
    "import numpy as np\n",
    "import pandas as pd\n",
    "import matplotlib.pyplot as plt\n",
    "import seaborn as sns\n",
    "import plotly as px"
   ]
  },
  {
   "cell_type": "code",
   "execution_count": 94,
   "id": "865b1e2a",
   "metadata": {},
   "outputs": [
    {
     "data": {
      "application/vnd.microsoft.datawrangler.viewer.v0+json": {
       "columns": [
        {
         "name": "index",
         "rawType": "int64",
         "type": "integer"
        },
        {
         "name": "Patient_ID",
         "rawType": "object",
         "type": "string"
        },
        {
         "name": "Age",
         "rawType": "int64",
         "type": "integer"
        },
        {
         "name": "Gender",
         "rawType": "object",
         "type": "string"
        },
        {
         "name": "Country_Region",
         "rawType": "object",
         "type": "string"
        },
        {
         "name": "Year",
         "rawType": "int64",
         "type": "integer"
        },
        {
         "name": "Genetic_Risk",
         "rawType": "float64",
         "type": "float"
        },
        {
         "name": "Air_Pollution",
         "rawType": "float64",
         "type": "float"
        },
        {
         "name": "Alcohol_Use",
         "rawType": "float64",
         "type": "float"
        },
        {
         "name": "Smoking",
         "rawType": "float64",
         "type": "float"
        },
        {
         "name": "Obesity_Level",
         "rawType": "float64",
         "type": "float"
        },
        {
         "name": "Cancer_Type",
         "rawType": "object",
         "type": "string"
        },
        {
         "name": "Cancer_Stage",
         "rawType": "object",
         "type": "string"
        },
        {
         "name": "Treatment_Cost_USD",
         "rawType": "float64",
         "type": "float"
        },
        {
         "name": "Survival_Years",
         "rawType": "float64",
         "type": "float"
        },
        {
         "name": "Target_Severity_Score",
         "rawType": "float64",
         "type": "float"
        }
       ],
       "conversionMethod": "pd.DataFrame",
       "ref": "e5a27659-162f-4b45-9d63-eb751aeecf73",
       "rows": [
        [
         "0",
         "PT0000000",
         "71",
         "Male",
         "UK",
         "2021",
         "6.4",
         "2.8",
         "9.5",
         "0.9",
         "8.7",
         "Lung",
         "Stage III",
         "62913.44",
         "5.9",
         "4.92"
        ],
        [
         "1",
         "PT0000001",
         "34",
         "Male",
         "China",
         "2021",
         "1.3",
         "4.5",
         "3.7",
         "3.9",
         "6.3",
         "Leukemia",
         "Stage 0",
         "12573.41",
         "4.7",
         "4.65"
        ],
        [
         "2",
         "PT0000002",
         "80",
         "Male",
         "Pakistan",
         "2023",
         "7.4",
         "7.9",
         "2.4",
         "4.7",
         "0.1",
         "Breast",
         "Stage II",
         "6984.33",
         "7.1",
         "5.84"
        ],
        [
         "3",
         "PT0000003",
         "40",
         "Male",
         "UK",
         "2015",
         "1.7",
         "2.9",
         "4.8",
         "3.5",
         "2.7",
         "Colon",
         "Stage I",
         "67446.25",
         "1.6",
         "3.12"
        ],
        [
         "4",
         "PT0000004",
         "43",
         "Female",
         "Brazil",
         "2017",
         "5.1",
         "2.8",
         "2.3",
         "6.7",
         "0.5",
         "Skin",
         "Stage III",
         "77977.12",
         "2.9",
         "3.62"
        ],
        [
         "5",
         "PT0000005",
         "22",
         "Male",
         "Germany",
         "2018",
         "9.5",
         "6.4",
         "3.3",
         "3.9",
         "5.1",
         "Cervical",
         "Stage IV",
         "33468.99",
         "9.5",
         "5.98"
        ],
        [
         "6",
         "PT0000006",
         "41",
         "Male",
         "Canada",
         "2021",
         "5.1",
         "8.2",
         "0.3",
         "3.7",
         "2.1",
         "Cervical",
         "Stage 0",
         "9790.83",
         "1.0",
         "5.05"
        ],
        [
         "7",
         "PT0000007",
         "72",
         "Female",
         "Canada",
         "2018",
         "6.0",
         "8.2",
         "6.4",
         "0.6",
         "8.5",
         "Prostate",
         "Stage I",
         "17161.4",
         "6.2",
         "6.02"
        ],
        [
         "8",
         "PT0000008",
         "21",
         "Male",
         "USA",
         "2022",
         "4.3",
         "3.8",
         "1.0",
         "0.3",
         "8.5",
         "Lung",
         "Stage II",
         "56458.48",
         "6.5",
         "3.36"
        ],
        [
         "9",
         "PT0000009",
         "49",
         "Female",
         "Canada",
         "2016",
         "8.1",
         "0.8",
         "7.8",
         "5.2",
         "9.3",
         "Prostate",
         "Stage II",
         "56133.45",
         "5.7",
         "5.76"
        ],
        [
         "10",
         "PT0000010",
         "57",
         "Other",
         "Brazil",
         "2022",
         "1.9",
         "1.9",
         "4.6",
         "4.0",
         "0.2",
         "Skin",
         "Stage I",
         "15093.39",
         "1.0",
         "3.87"
        ],
        [
         "11",
         "PT0000011",
         "21",
         "Female",
         "Brazil",
         "2021",
         "5.2",
         "1.7",
         "7.2",
         "3.1",
         "8.3",
         "Prostate",
         "Stage I",
         "72315.19",
         "6.0",
         "4.38"
        ],
        [
         "12",
         "PT0000012",
         "83",
         "Male",
         "Canada",
         "2016",
         "3.5",
         "1.5",
         "8.1",
         "5.0",
         "1.5",
         "Leukemia",
         "Stage II",
         "99120.52",
         "8.0",
         "3.31"
        ],
        [
         "13",
         "PT0000013",
         "79",
         "Female",
         "USA",
         "2021",
         "8.5",
         "9.6",
         "3.6",
         "9.8",
         "8.7",
         "Cervical",
         "Stage II",
         "94210.93",
         "7.1",
         "6.63"
        ],
        [
         "14",
         "PT0000014",
         "40",
         "Male",
         "UK",
         "2023",
         "4.6",
         "3.6",
         "3.5",
         "6.2",
         "3.4",
         "Breast",
         "Stage IV",
         "58397.96",
         "8.3",
         "4.4"
        ],
        [
         "15",
         "PT0000015",
         "52",
         "Male",
         "Germany",
         "2024",
         "2.3",
         "5.8",
         "6.3",
         "5.6",
         "1.9",
         "Lung",
         "Stage II",
         "19910.36",
         "7.0",
         "5.19"
        ],
        [
         "16",
         "PT0000016",
         "77",
         "Other",
         "UK",
         "2017",
         "8.9",
         "4.3",
         "1.9",
         "8.2",
         "3.7",
         "Colon",
         "Stage III",
         "59285.13",
         "0.5",
         "5.53"
        ],
        [
         "17",
         "PT0000017",
         "41",
         "Male",
         "Germany",
         "2016",
         "5.4",
         "9.1",
         "9.2",
         "4.0",
         "5.1",
         "Liver",
         "Stage 0",
         "56875.63",
         "1.9",
         "6.0"
        ],
        [
         "18",
         "PT0000018",
         "68",
         "Male",
         "UK",
         "2021",
         "8.4",
         "7.4",
         "7.8",
         "7.0",
         "7.2",
         "Leukemia",
         "Stage II",
         "10360.2",
         "4.6",
         "7.87"
        ],
        [
         "19",
         "PT0000019",
         "78",
         "Male",
         "India",
         "2023",
         "3.8",
         "7.2",
         "3.5",
         "7.9",
         "8.2",
         "Prostate",
         "Stage I",
         "40131.04",
         "5.4",
         "5.96"
        ],
        [
         "20",
         "PT0000020",
         "61",
         "Female",
         "India",
         "2023",
         "9.6",
         "4.6",
         "1.9",
         "3.9",
         "6.2",
         "Lung",
         "Stage I",
         "73647.58",
         "6.7",
         "4.82"
        ],
        [
         "21",
         "PT0000021",
         "79",
         "Male",
         "Germany",
         "2020",
         "6.9",
         "7.5",
         "6.5",
         "3.4",
         "8.0",
         "Leukemia",
         "Stage I",
         "69120.52",
         "1.9",
         "5.58"
        ],
        [
         "22",
         "PT0000022",
         "34",
         "Male",
         "China",
         "2024",
         "9.6",
         "8.0",
         "0.0",
         "5.9",
         "3.9",
         "Prostate",
         "Stage 0",
         "89075.81",
         "9.9",
         "4.91"
        ],
        [
         "23",
         "PT0000023",
         "81",
         "Male",
         "India",
         "2019",
         "2.7",
         "9.8",
         "0.4",
         "8.2",
         "7.5",
         "Liver",
         "Stage I",
         "12302.14",
         "7.2",
         "6.21"
        ],
        [
         "24",
         "PT0000024",
         "81",
         "Other",
         "USA",
         "2019",
         "6.0",
         "1.4",
         "2.7",
         "2.4",
         "5.2",
         "Skin",
         "Stage I",
         "85211.23",
         "1.0",
         "3.11"
        ],
        [
         "25",
         "PT0000025",
         "66",
         "Other",
         "Brazil",
         "2022",
         "1.8",
         "6.8",
         "6.8",
         "3.6",
         "2.0",
         "Lung",
         "Stage I",
         "5545.08",
         "6.0",
         "5.21"
        ],
        [
         "26",
         "PT0000026",
         "81",
         "Female",
         "China",
         "2018",
         "0.5",
         "2.0",
         "5.0",
         "0.7",
         "2.8",
         "Colon",
         "Stage II",
         "85715.44",
         "6.4",
         "1.86"
        ],
        [
         "27",
         "PT0000027",
         "70",
         "Other",
         "Germany",
         "2016",
         "1.5",
         "6.3",
         "3.7",
         "9.6",
         "3.0",
         "Cervical",
         "Stage I",
         "39510.09",
         "3.5",
         "5.23"
        ],
        [
         "28",
         "PT0000028",
         "74",
         "Other",
         "USA",
         "2019",
         "7.4",
         "2.4",
         "5.0",
         "2.2",
         "4.9",
         "Colon",
         "Stage III",
         "97036.73",
         "9.7",
         "3.58"
        ],
        [
         "29",
         "PT0000029",
         "83",
         "Female",
         "UK",
         "2021",
         "8.6",
         "0.8",
         "1.9",
         "4.1",
         "1.8",
         "Breast",
         "Stage 0",
         "32889.23",
         "0.2",
         "4.47"
        ],
        [
         "30",
         "PT0000030",
         "22",
         "Other",
         "Australia",
         "2022",
         "0.6",
         "7.6",
         "3.3",
         "0.6",
         "1.1",
         "Skin",
         "Stage IV",
         "44708.62",
         "5.1",
         "3.09"
        ],
        [
         "31",
         "PT0000031",
         "70",
         "Male",
         "Pakistan",
         "2022",
         "3.6",
         "3.9",
         "2.9",
         "6.5",
         "0.1",
         "Breast",
         "Stage III",
         "65719.9",
         "9.8",
         "3.74"
        ],
        [
         "32",
         "PT0000032",
         "26",
         "Male",
         "USA",
         "2022",
         "5.2",
         "2.5",
         "1.8",
         "5.4",
         "0.1",
         "Liver",
         "Stage I",
         "81323.1",
         "2.3",
         "3.15"
        ],
        [
         "33",
         "PT0000033",
         "40",
         "Male",
         "Canada",
         "2024",
         "4.6",
         "7.8",
         "4.0",
         "0.5",
         "7.6",
         "Lung",
         "Stage IV",
         "44510.94",
         "5.5",
         "4.66"
        ],
        [
         "34",
         "PT0000034",
         "58",
         "Other",
         "India",
         "2017",
         "0.6",
         "4.0",
         "0.3",
         "7.9",
         "0.8",
         "Prostate",
         "Stage IV",
         "99441.22",
         "3.8",
         "2.44"
        ],
        [
         "35",
         "PT0000035",
         "37",
         "Female",
         "Brazil",
         "2018",
         "2.8",
         "2.2",
         "3.2",
         "4.8",
         "3.5",
         "Prostate",
         "Stage II",
         "85569.18",
         "2.2",
         "2.97"
        ],
        [
         "36",
         "PT0000036",
         "23",
         "Other",
         "Russia",
         "2016",
         "4.6",
         "6.3",
         "5.5",
         "4.4",
         "7.7",
         "Leukemia",
         "Stage 0",
         "60188.21",
         "0.9",
         "5.14"
        ],
        [
         "37",
         "PT0000037",
         "79",
         "Female",
         "Canada",
         "2016",
         "0.3",
         "2.2",
         "8.1",
         "6.3",
         "4.8",
         "Lung",
         "Stage 0",
         "73166.35",
         "7.0",
         "3.88"
        ],
        [
         "38",
         "PT0000038",
         "33",
         "Male",
         "China",
         "2021",
         "5.6",
         "9.6",
         "6.2",
         "5.5",
         "9.7",
         "Liver",
         "Stage IV",
         "87021.11",
         "9.4",
         "5.82"
        ],
        [
         "39",
         "PT0000039",
         "28",
         "Female",
         "Australia",
         "2015",
         "7.4",
         "5.1",
         "0.8",
         "6.3",
         "2.7",
         "Skin",
         "Stage IV",
         "30596.29",
         "4.3",
         "5.28"
        ],
        [
         "40",
         "PT0000040",
         "72",
         "Male",
         "India",
         "2020",
         "2.0",
         "8.8",
         "8.5",
         "8.1",
         "6.1",
         "Prostate",
         "Stage IV",
         "36662.69",
         "1.8",
         "6.49"
        ],
        [
         "41",
         "PT0000041",
         "21",
         "Other",
         "Germany",
         "2019",
         "4.8",
         "0.7",
         "9.5",
         "2.1",
         "9.9",
         "Lung",
         "Stage I",
         "37326.68",
         "7.4",
         "5.15"
        ],
        [
         "42",
         "PT0000042",
         "79",
         "Other",
         "Canada",
         "2017",
         "4.3",
         "4.2",
         "0.5",
         "4.0",
         "1.4",
         "Prostate",
         "Stage 0",
         "64962.24",
         "7.0",
         "3.21"
        ],
        [
         "43",
         "PT0000043",
         "63",
         "Female",
         "India",
         "2020",
         "3.3",
         "0.1",
         "7.9",
         "8.5",
         "7.5",
         "Leukemia",
         "Stage IV",
         "37002.01",
         "7.3",
         "5.57"
        ],
        [
         "44",
         "PT0000044",
         "27",
         "Other",
         "China",
         "2018",
         "7.1",
         "5.5",
         "7.4",
         "2.5",
         "8.6",
         "Breast",
         "Stage I",
         "74882.64",
         "7.1",
         "5.22"
        ],
        [
         "45",
         "PT0000045",
         "66",
         "Female",
         "Pakistan",
         "2019",
         "7.6",
         "3.4",
         "8.5",
         "0.0",
         "4.2",
         "Colon",
         "Stage 0",
         "69635.19",
         "8.9",
         "4.33"
        ],
        [
         "46",
         "PT0000046",
         "54",
         "Other",
         "China",
         "2017",
         "2.6",
         "7.6",
         "3.1",
         "2.0",
         "2.9",
         "Leukemia",
         "Stage 0",
         "64543.5",
         "6.9",
         "3.52"
        ],
        [
         "47",
         "PT0000047",
         "55",
         "Other",
         "Pakistan",
         "2022",
         "9.9",
         "0.7",
         "5.5",
         "2.8",
         "1.4",
         "Prostate",
         "Stage IV",
         "69899.97",
         "9.9",
         "4.21"
        ],
        [
         "48",
         "PT0000048",
         "69",
         "Other",
         "Pakistan",
         "2015",
         "4.8",
         "4.5",
         "7.0",
         "7.7",
         "4.4",
         "Liver",
         "Stage I",
         "10648.45",
         "9.1",
         "6.45"
        ],
        [
         "49",
         "PT0000049",
         "23",
         "Female",
         "China",
         "2021",
         "9.6",
         "2.8",
         "2.9",
         "9.2",
         "8.9",
         "Lung",
         "Stage I",
         "57101.26",
         "6.9",
         "6.36"
        ]
       ],
       "shape": {
        "columns": 15,
        "rows": 50000
       }
      },
      "text/html": [
       "<div>\n",
       "<style scoped>\n",
       "    .dataframe tbody tr th:only-of-type {\n",
       "        vertical-align: middle;\n",
       "    }\n",
       "\n",
       "    .dataframe tbody tr th {\n",
       "        vertical-align: top;\n",
       "    }\n",
       "\n",
       "    .dataframe thead th {\n",
       "        text-align: right;\n",
       "    }\n",
       "</style>\n",
       "<table border=\"1\" class=\"dataframe\">\n",
       "  <thead>\n",
       "    <tr style=\"text-align: right;\">\n",
       "      <th></th>\n",
       "      <th>Patient_ID</th>\n",
       "      <th>Age</th>\n",
       "      <th>Gender</th>\n",
       "      <th>Country_Region</th>\n",
       "      <th>Year</th>\n",
       "      <th>Genetic_Risk</th>\n",
       "      <th>Air_Pollution</th>\n",
       "      <th>Alcohol_Use</th>\n",
       "      <th>Smoking</th>\n",
       "      <th>Obesity_Level</th>\n",
       "      <th>Cancer_Type</th>\n",
       "      <th>Cancer_Stage</th>\n",
       "      <th>Treatment_Cost_USD</th>\n",
       "      <th>Survival_Years</th>\n",
       "      <th>Target_Severity_Score</th>\n",
       "    </tr>\n",
       "  </thead>\n",
       "  <tbody>\n",
       "    <tr>\n",
       "      <th>0</th>\n",
       "      <td>PT0000000</td>\n",
       "      <td>71</td>\n",
       "      <td>Male</td>\n",
       "      <td>UK</td>\n",
       "      <td>2021</td>\n",
       "      <td>6.4</td>\n",
       "      <td>2.8</td>\n",
       "      <td>9.5</td>\n",
       "      <td>0.9</td>\n",
       "      <td>8.7</td>\n",
       "      <td>Lung</td>\n",
       "      <td>Stage III</td>\n",
       "      <td>62913.44</td>\n",
       "      <td>5.9</td>\n",
       "      <td>4.92</td>\n",
       "    </tr>\n",
       "    <tr>\n",
       "      <th>1</th>\n",
       "      <td>PT0000001</td>\n",
       "      <td>34</td>\n",
       "      <td>Male</td>\n",
       "      <td>China</td>\n",
       "      <td>2021</td>\n",
       "      <td>1.3</td>\n",
       "      <td>4.5</td>\n",
       "      <td>3.7</td>\n",
       "      <td>3.9</td>\n",
       "      <td>6.3</td>\n",
       "      <td>Leukemia</td>\n",
       "      <td>Stage 0</td>\n",
       "      <td>12573.41</td>\n",
       "      <td>4.7</td>\n",
       "      <td>4.65</td>\n",
       "    </tr>\n",
       "    <tr>\n",
       "      <th>2</th>\n",
       "      <td>PT0000002</td>\n",
       "      <td>80</td>\n",
       "      <td>Male</td>\n",
       "      <td>Pakistan</td>\n",
       "      <td>2023</td>\n",
       "      <td>7.4</td>\n",
       "      <td>7.9</td>\n",
       "      <td>2.4</td>\n",
       "      <td>4.7</td>\n",
       "      <td>0.1</td>\n",
       "      <td>Breast</td>\n",
       "      <td>Stage II</td>\n",
       "      <td>6984.33</td>\n",
       "      <td>7.1</td>\n",
       "      <td>5.84</td>\n",
       "    </tr>\n",
       "    <tr>\n",
       "      <th>3</th>\n",
       "      <td>PT0000003</td>\n",
       "      <td>40</td>\n",
       "      <td>Male</td>\n",
       "      <td>UK</td>\n",
       "      <td>2015</td>\n",
       "      <td>1.7</td>\n",
       "      <td>2.9</td>\n",
       "      <td>4.8</td>\n",
       "      <td>3.5</td>\n",
       "      <td>2.7</td>\n",
       "      <td>Colon</td>\n",
       "      <td>Stage I</td>\n",
       "      <td>67446.25</td>\n",
       "      <td>1.6</td>\n",
       "      <td>3.12</td>\n",
       "    </tr>\n",
       "    <tr>\n",
       "      <th>4</th>\n",
       "      <td>PT0000004</td>\n",
       "      <td>43</td>\n",
       "      <td>Female</td>\n",
       "      <td>Brazil</td>\n",
       "      <td>2017</td>\n",
       "      <td>5.1</td>\n",
       "      <td>2.8</td>\n",
       "      <td>2.3</td>\n",
       "      <td>6.7</td>\n",
       "      <td>0.5</td>\n",
       "      <td>Skin</td>\n",
       "      <td>Stage III</td>\n",
       "      <td>77977.12</td>\n",
       "      <td>2.9</td>\n",
       "      <td>3.62</td>\n",
       "    </tr>\n",
       "    <tr>\n",
       "      <th>...</th>\n",
       "      <td>...</td>\n",
       "      <td>...</td>\n",
       "      <td>...</td>\n",
       "      <td>...</td>\n",
       "      <td>...</td>\n",
       "      <td>...</td>\n",
       "      <td>...</td>\n",
       "      <td>...</td>\n",
       "      <td>...</td>\n",
       "      <td>...</td>\n",
       "      <td>...</td>\n",
       "      <td>...</td>\n",
       "      <td>...</td>\n",
       "      <td>...</td>\n",
       "      <td>...</td>\n",
       "    </tr>\n",
       "    <tr>\n",
       "      <th>49995</th>\n",
       "      <td>PT0049995</td>\n",
       "      <td>80</td>\n",
       "      <td>Male</td>\n",
       "      <td>Pakistan</td>\n",
       "      <td>2023</td>\n",
       "      <td>2.3</td>\n",
       "      <td>7.5</td>\n",
       "      <td>2.8</td>\n",
       "      <td>3.8</td>\n",
       "      <td>2.9</td>\n",
       "      <td>Leukemia</td>\n",
       "      <td>Stage 0</td>\n",
       "      <td>71463.70</td>\n",
       "      <td>1.0</td>\n",
       "      <td>3.63</td>\n",
       "    </tr>\n",
       "    <tr>\n",
       "      <th>49996</th>\n",
       "      <td>PT0049996</td>\n",
       "      <td>40</td>\n",
       "      <td>Female</td>\n",
       "      <td>USA</td>\n",
       "      <td>2018</td>\n",
       "      <td>6.4</td>\n",
       "      <td>3.5</td>\n",
       "      <td>2.9</td>\n",
       "      <td>9.0</td>\n",
       "      <td>9.8</td>\n",
       "      <td>Colon</td>\n",
       "      <td>Stage I</td>\n",
       "      <td>49619.66</td>\n",
       "      <td>0.4</td>\n",
       "      <td>6.03</td>\n",
       "    </tr>\n",
       "    <tr>\n",
       "      <th>49997</th>\n",
       "      <td>PT0049997</td>\n",
       "      <td>74</td>\n",
       "      <td>Male</td>\n",
       "      <td>Pakistan</td>\n",
       "      <td>2015</td>\n",
       "      <td>6.2</td>\n",
       "      <td>1.6</td>\n",
       "      <td>8.7</td>\n",
       "      <td>4.7</td>\n",
       "      <td>4.0</td>\n",
       "      <td>Breast</td>\n",
       "      <td>Stage 0</td>\n",
       "      <td>5338.25</td>\n",
       "      <td>2.7</td>\n",
       "      <td>6.02</td>\n",
       "    </tr>\n",
       "    <tr>\n",
       "      <th>49998</th>\n",
       "      <td>PT0049998</td>\n",
       "      <td>21</td>\n",
       "      <td>Male</td>\n",
       "      <td>Brazil</td>\n",
       "      <td>2018</td>\n",
       "      <td>4.0</td>\n",
       "      <td>6.5</td>\n",
       "      <td>7.6</td>\n",
       "      <td>8.6</td>\n",
       "      <td>8.1</td>\n",
       "      <td>Liver</td>\n",
       "      <td>Stage IV</td>\n",
       "      <td>45100.47</td>\n",
       "      <td>7.5</td>\n",
       "      <td>6.54</td>\n",
       "    </tr>\n",
       "    <tr>\n",
       "      <th>49999</th>\n",
       "      <td>PT0049999</td>\n",
       "      <td>22</td>\n",
       "      <td>Male</td>\n",
       "      <td>Pakistan</td>\n",
       "      <td>2023</td>\n",
       "      <td>5.1</td>\n",
       "      <td>9.8</td>\n",
       "      <td>3.2</td>\n",
       "      <td>0.0</td>\n",
       "      <td>0.7</td>\n",
       "      <td>Liver</td>\n",
       "      <td>Stage 0</td>\n",
       "      <td>64023.82</td>\n",
       "      <td>7.4</td>\n",
       "      <td>3.76</td>\n",
       "    </tr>\n",
       "  </tbody>\n",
       "</table>\n",
       "<p>50000 rows × 15 columns</p>\n",
       "</div>"
      ],
      "text/plain": [
       "      Patient_ID  Age  Gender Country_Region  Year  Genetic_Risk  \\\n",
       "0      PT0000000   71    Male             UK  2021           6.4   \n",
       "1      PT0000001   34    Male          China  2021           1.3   \n",
       "2      PT0000002   80    Male       Pakistan  2023           7.4   \n",
       "3      PT0000003   40    Male             UK  2015           1.7   \n",
       "4      PT0000004   43  Female         Brazil  2017           5.1   \n",
       "...          ...  ...     ...            ...   ...           ...   \n",
       "49995  PT0049995   80    Male       Pakistan  2023           2.3   \n",
       "49996  PT0049996   40  Female            USA  2018           6.4   \n",
       "49997  PT0049997   74    Male       Pakistan  2015           6.2   \n",
       "49998  PT0049998   21    Male         Brazil  2018           4.0   \n",
       "49999  PT0049999   22    Male       Pakistan  2023           5.1   \n",
       "\n",
       "       Air_Pollution  Alcohol_Use  Smoking  Obesity_Level Cancer_Type  \\\n",
       "0                2.8          9.5      0.9            8.7        Lung   \n",
       "1                4.5          3.7      3.9            6.3    Leukemia   \n",
       "2                7.9          2.4      4.7            0.1      Breast   \n",
       "3                2.9          4.8      3.5            2.7       Colon   \n",
       "4                2.8          2.3      6.7            0.5        Skin   \n",
       "...              ...          ...      ...            ...         ...   \n",
       "49995            7.5          2.8      3.8            2.9    Leukemia   \n",
       "49996            3.5          2.9      9.0            9.8       Colon   \n",
       "49997            1.6          8.7      4.7            4.0      Breast   \n",
       "49998            6.5          7.6      8.6            8.1       Liver   \n",
       "49999            9.8          3.2      0.0            0.7       Liver   \n",
       "\n",
       "      Cancer_Stage  Treatment_Cost_USD  Survival_Years  Target_Severity_Score  \n",
       "0        Stage III            62913.44             5.9                   4.92  \n",
       "1          Stage 0            12573.41             4.7                   4.65  \n",
       "2         Stage II             6984.33             7.1                   5.84  \n",
       "3          Stage I            67446.25             1.6                   3.12  \n",
       "4        Stage III            77977.12             2.9                   3.62  \n",
       "...            ...                 ...             ...                    ...  \n",
       "49995      Stage 0            71463.70             1.0                   3.63  \n",
       "49996      Stage I            49619.66             0.4                   6.03  \n",
       "49997      Stage 0             5338.25             2.7                   6.02  \n",
       "49998     Stage IV            45100.47             7.5                   6.54  \n",
       "49999      Stage 0            64023.82             7.4                   3.76  \n",
       "\n",
       "[50000 rows x 15 columns]"
      ]
     },
     "execution_count": 94,
     "metadata": {},
     "output_type": "execute_result"
    }
   ],
   "source": [
    "df = pd.read_csv(r\"D:\\portfolio\\ARcraft\\datasets\\global_cancer.csv\")\n",
    "df"
   ]
  },
  {
   "cell_type": "code",
   "execution_count": 95,
   "id": "3eec7785",
   "metadata": {},
   "outputs": [
    {
     "name": "stdout",
     "output_type": "stream",
     "text": [
      "<class 'pandas.core.frame.DataFrame'>\n",
      "RangeIndex: 50000 entries, 0 to 49999\n",
      "Data columns (total 15 columns):\n",
      " #   Column                 Non-Null Count  Dtype  \n",
      "---  ------                 --------------  -----  \n",
      " 0   Patient_ID             50000 non-null  object \n",
      " 1   Age                    50000 non-null  int64  \n",
      " 2   Gender                 50000 non-null  object \n",
      " 3   Country_Region         50000 non-null  object \n",
      " 4   Year                   50000 non-null  int64  \n",
      " 5   Genetic_Risk           50000 non-null  float64\n",
      " 6   Air_Pollution          50000 non-null  float64\n",
      " 7   Alcohol_Use            50000 non-null  float64\n",
      " 8   Smoking                50000 non-null  float64\n",
      " 9   Obesity_Level          50000 non-null  float64\n",
      " 10  Cancer_Type            50000 non-null  object \n",
      " 11  Cancer_Stage           50000 non-null  object \n",
      " 12  Treatment_Cost_USD     50000 non-null  float64\n",
      " 13  Survival_Years         50000 non-null  float64\n",
      " 14  Target_Severity_Score  50000 non-null  float64\n",
      "dtypes: float64(8), int64(2), object(5)\n",
      "memory usage: 5.7+ MB\n"
     ]
    }
   ],
   "source": [
    "df.info()"
   ]
  },
  {
   "cell_type": "code",
   "execution_count": 96,
   "id": "9ebbf800",
   "metadata": {},
   "outputs": [
    {
     "data": {
      "application/vnd.microsoft.datawrangler.viewer.v0+json": {
       "columns": [
        {
         "name": "index",
         "rawType": "object",
         "type": "string"
        },
        {
         "name": "Age",
         "rawType": "float64",
         "type": "float"
        },
        {
         "name": "Year",
         "rawType": "float64",
         "type": "float"
        },
        {
         "name": "Genetic_Risk",
         "rawType": "float64",
         "type": "float"
        },
        {
         "name": "Air_Pollution",
         "rawType": "float64",
         "type": "float"
        },
        {
         "name": "Alcohol_Use",
         "rawType": "float64",
         "type": "float"
        },
        {
         "name": "Smoking",
         "rawType": "float64",
         "type": "float"
        },
        {
         "name": "Obesity_Level",
         "rawType": "float64",
         "type": "float"
        },
        {
         "name": "Treatment_Cost_USD",
         "rawType": "float64",
         "type": "float"
        },
        {
         "name": "Survival_Years",
         "rawType": "float64",
         "type": "float"
        },
        {
         "name": "Target_Severity_Score",
         "rawType": "float64",
         "type": "float"
        }
       ],
       "conversionMethod": "pd.DataFrame",
       "ref": "995cea03-3de4-4913-afaa-8505d0b28561",
       "rows": [
        [
         "count",
         "50000.0",
         "50000.0",
         "50000.0",
         "50000.0",
         "50000.0",
         "50000.0",
         "50000.0",
         "50000.0",
         "50000.0",
         "50000.0"
        ],
        [
         "mean",
         "54.42154",
         "2019.48052",
         "5.001697999999999",
         "5.0101260000000005",
         "5.01088",
         "4.989826000000001",
         "4.991175999999999",
         "52467.29823860001",
         "5.006462",
         "4.9512073999999995"
        ],
        [
         "std",
         "20.224451156876714",
         "2.871484883837761",
         "2.885772525764532",
         "2.8883993700910584",
         "2.8887686867055495",
         "2.881578726955624",
         "2.8945040508000677",
         "27363.229378979515",
         "2.8833354843004826",
         "1.1996767800840247"
        ],
        [
         "min",
         "20.0",
         "2015.0",
         "0.0",
         "0.0",
         "0.0",
         "0.0",
         "0.0",
         "5000.05",
         "0.0",
         "0.9"
        ],
        [
         "25%",
         "37.0",
         "2017.0",
         "2.5",
         "2.5",
         "2.5",
         "2.5",
         "2.5",
         "28686.225",
         "2.5",
         "4.12"
        ],
        [
         "50%",
         "54.0",
         "2019.0",
         "5.0",
         "5.0",
         "5.0",
         "5.0",
         "5.0",
         "52474.31",
         "5.0",
         "4.95"
        ],
        [
         "75%",
         "72.0",
         "2022.0",
         "7.5",
         "7.5",
         "7.5",
         "7.5",
         "7.5",
         "76232.72",
         "7.5",
         "5.78"
        ],
        [
         "max",
         "89.0",
         "2024.0",
         "10.0",
         "10.0",
         "10.0",
         "10.0",
         "10.0",
         "99999.84",
         "10.0",
         "9.16"
        ]
       ],
       "shape": {
        "columns": 10,
        "rows": 8
       }
      },
      "text/html": [
       "<div>\n",
       "<style scoped>\n",
       "    .dataframe tbody tr th:only-of-type {\n",
       "        vertical-align: middle;\n",
       "    }\n",
       "\n",
       "    .dataframe tbody tr th {\n",
       "        vertical-align: top;\n",
       "    }\n",
       "\n",
       "    .dataframe thead th {\n",
       "        text-align: right;\n",
       "    }\n",
       "</style>\n",
       "<table border=\"1\" class=\"dataframe\">\n",
       "  <thead>\n",
       "    <tr style=\"text-align: right;\">\n",
       "      <th></th>\n",
       "      <th>Age</th>\n",
       "      <th>Year</th>\n",
       "      <th>Genetic_Risk</th>\n",
       "      <th>Air_Pollution</th>\n",
       "      <th>Alcohol_Use</th>\n",
       "      <th>Smoking</th>\n",
       "      <th>Obesity_Level</th>\n",
       "      <th>Treatment_Cost_USD</th>\n",
       "      <th>Survival_Years</th>\n",
       "      <th>Target_Severity_Score</th>\n",
       "    </tr>\n",
       "  </thead>\n",
       "  <tbody>\n",
       "    <tr>\n",
       "      <th>count</th>\n",
       "      <td>50000.000000</td>\n",
       "      <td>50000.000000</td>\n",
       "      <td>50000.000000</td>\n",
       "      <td>50000.000000</td>\n",
       "      <td>50000.000000</td>\n",
       "      <td>50000.000000</td>\n",
       "      <td>50000.000000</td>\n",
       "      <td>50000.000000</td>\n",
       "      <td>50000.000000</td>\n",
       "      <td>50000.000000</td>\n",
       "    </tr>\n",
       "    <tr>\n",
       "      <th>mean</th>\n",
       "      <td>54.421540</td>\n",
       "      <td>2019.480520</td>\n",
       "      <td>5.001698</td>\n",
       "      <td>5.010126</td>\n",
       "      <td>5.010880</td>\n",
       "      <td>4.989826</td>\n",
       "      <td>4.991176</td>\n",
       "      <td>52467.298239</td>\n",
       "      <td>5.006462</td>\n",
       "      <td>4.951207</td>\n",
       "    </tr>\n",
       "    <tr>\n",
       "      <th>std</th>\n",
       "      <td>20.224451</td>\n",
       "      <td>2.871485</td>\n",
       "      <td>2.885773</td>\n",
       "      <td>2.888399</td>\n",
       "      <td>2.888769</td>\n",
       "      <td>2.881579</td>\n",
       "      <td>2.894504</td>\n",
       "      <td>27363.229379</td>\n",
       "      <td>2.883335</td>\n",
       "      <td>1.199677</td>\n",
       "    </tr>\n",
       "    <tr>\n",
       "      <th>min</th>\n",
       "      <td>20.000000</td>\n",
       "      <td>2015.000000</td>\n",
       "      <td>0.000000</td>\n",
       "      <td>0.000000</td>\n",
       "      <td>0.000000</td>\n",
       "      <td>0.000000</td>\n",
       "      <td>0.000000</td>\n",
       "      <td>5000.050000</td>\n",
       "      <td>0.000000</td>\n",
       "      <td>0.900000</td>\n",
       "    </tr>\n",
       "    <tr>\n",
       "      <th>25%</th>\n",
       "      <td>37.000000</td>\n",
       "      <td>2017.000000</td>\n",
       "      <td>2.500000</td>\n",
       "      <td>2.500000</td>\n",
       "      <td>2.500000</td>\n",
       "      <td>2.500000</td>\n",
       "      <td>2.500000</td>\n",
       "      <td>28686.225000</td>\n",
       "      <td>2.500000</td>\n",
       "      <td>4.120000</td>\n",
       "    </tr>\n",
       "    <tr>\n",
       "      <th>50%</th>\n",
       "      <td>54.000000</td>\n",
       "      <td>2019.000000</td>\n",
       "      <td>5.000000</td>\n",
       "      <td>5.000000</td>\n",
       "      <td>5.000000</td>\n",
       "      <td>5.000000</td>\n",
       "      <td>5.000000</td>\n",
       "      <td>52474.310000</td>\n",
       "      <td>5.000000</td>\n",
       "      <td>4.950000</td>\n",
       "    </tr>\n",
       "    <tr>\n",
       "      <th>75%</th>\n",
       "      <td>72.000000</td>\n",
       "      <td>2022.000000</td>\n",
       "      <td>7.500000</td>\n",
       "      <td>7.500000</td>\n",
       "      <td>7.500000</td>\n",
       "      <td>7.500000</td>\n",
       "      <td>7.500000</td>\n",
       "      <td>76232.720000</td>\n",
       "      <td>7.500000</td>\n",
       "      <td>5.780000</td>\n",
       "    </tr>\n",
       "    <tr>\n",
       "      <th>max</th>\n",
       "      <td>89.000000</td>\n",
       "      <td>2024.000000</td>\n",
       "      <td>10.000000</td>\n",
       "      <td>10.000000</td>\n",
       "      <td>10.000000</td>\n",
       "      <td>10.000000</td>\n",
       "      <td>10.000000</td>\n",
       "      <td>99999.840000</td>\n",
       "      <td>10.000000</td>\n",
       "      <td>9.160000</td>\n",
       "    </tr>\n",
       "  </tbody>\n",
       "</table>\n",
       "</div>"
      ],
      "text/plain": [
       "                Age          Year  Genetic_Risk  Air_Pollution   Alcohol_Use  \\\n",
       "count  50000.000000  50000.000000  50000.000000   50000.000000  50000.000000   \n",
       "mean      54.421540   2019.480520      5.001698       5.010126      5.010880   \n",
       "std       20.224451      2.871485      2.885773       2.888399      2.888769   \n",
       "min       20.000000   2015.000000      0.000000       0.000000      0.000000   \n",
       "25%       37.000000   2017.000000      2.500000       2.500000      2.500000   \n",
       "50%       54.000000   2019.000000      5.000000       5.000000      5.000000   \n",
       "75%       72.000000   2022.000000      7.500000       7.500000      7.500000   \n",
       "max       89.000000   2024.000000     10.000000      10.000000     10.000000   \n",
       "\n",
       "            Smoking  Obesity_Level  Treatment_Cost_USD  Survival_Years  \\\n",
       "count  50000.000000   50000.000000        50000.000000    50000.000000   \n",
       "mean       4.989826       4.991176        52467.298239        5.006462   \n",
       "std        2.881579       2.894504        27363.229379        2.883335   \n",
       "min        0.000000       0.000000         5000.050000        0.000000   \n",
       "25%        2.500000       2.500000        28686.225000        2.500000   \n",
       "50%        5.000000       5.000000        52474.310000        5.000000   \n",
       "75%        7.500000       7.500000        76232.720000        7.500000   \n",
       "max       10.000000      10.000000        99999.840000       10.000000   \n",
       "\n",
       "       Target_Severity_Score  \n",
       "count           50000.000000  \n",
       "mean                4.951207  \n",
       "std                 1.199677  \n",
       "min                 0.900000  \n",
       "25%                 4.120000  \n",
       "50%                 4.950000  \n",
       "75%                 5.780000  \n",
       "max                 9.160000  "
      ]
     },
     "execution_count": 96,
     "metadata": {},
     "output_type": "execute_result"
    }
   ],
   "source": [
    "df.describe()"
   ]
  },
  {
   "cell_type": "code",
   "execution_count": 97,
   "id": "24a75e02",
   "metadata": {},
   "outputs": [
    {
     "data": {
      "text/plain": [
       "array(['Lung', 'Leukemia', 'Breast', 'Colon', 'Skin', 'Cervical',\n",
       "       'Prostate', 'Liver'], dtype=object)"
      ]
     },
     "execution_count": 97,
     "metadata": {},
     "output_type": "execute_result"
    }
   ],
   "source": [
    "df['Cancer_Type'].unique()"
   ]
  },
  {
   "cell_type": "code",
   "execution_count": 98,
   "id": "2d04986b",
   "metadata": {},
   "outputs": [
    {
     "data": {
      "text/plain": [
       "np.float64(5.006462)"
      ]
     },
     "execution_count": 98,
     "metadata": {},
     "output_type": "execute_result"
    }
   ],
   "source": [
    "df['Survival_Years'].mean()"
   ]
  },
  {
   "cell_type": "markdown",
   "id": "baf451a0",
   "metadata": {},
   "source": [
    "PEOPLE WITH CANCER ONLY SURVIVE FOR AN AVERAGE OF 5 YEARS"
   ]
  },
  {
   "cell_type": "code",
   "execution_count": null,
   "id": "aa4c6270",
   "metadata": {},
   "outputs": [],
   "source": []
  },
  {
   "cell_type": "code",
   "execution_count": 99,
   "id": "9b753e6e",
   "metadata": {},
   "outputs": [
    {
     "data": {
      "text/plain": [
       "np.int64(6266)"
      ]
     },
     "execution_count": 99,
     "metadata": {},
     "output_type": "execute_result"
    }
   ],
   "source": [
    "leukemia_count = df[df['Cancer_Type']=='Leukemia']\n",
    "leukemia_count.value_counts().sum()"
   ]
  },
  {
   "cell_type": "markdown",
   "id": "46046c7d",
   "metadata": {},
   "source": [
    "6266 people have LEUKEMIA"
   ]
  },
  {
   "cell_type": "code",
   "execution_count": null,
   "id": "168420ad",
   "metadata": {},
   "outputs": [],
   "source": []
  },
  {
   "cell_type": "code",
   "execution_count": 100,
   "id": "be10d6ff",
   "metadata": {},
   "outputs": [
    {
     "data": {
      "text/plain": [
       "np.int64(6159)"
      ]
     },
     "execution_count": 100,
     "metadata": {},
     "output_type": "execute_result"
    }
   ],
   "source": [
    "lungcancer_count = df[df['Cancer_Type']=='Lung']\n",
    "lungcancer_count.value_counts().sum()"
   ]
  },
  {
   "cell_type": "markdown",
   "id": "a0e9c72c",
   "metadata": {},
   "source": [
    "6159 PEOPLE HAVE LUNG CANCER"
   ]
  },
  {
   "cell_type": "code",
   "execution_count": null,
   "id": "f053bbe0",
   "metadata": {},
   "outputs": [],
   "source": []
  },
  {
   "cell_type": "code",
   "execution_count": 101,
   "id": "66d0c6b5",
   "metadata": {},
   "outputs": [
    {
     "data": {
      "text/plain": [
       "np.int64(6189)"
      ]
     },
     "execution_count": 101,
     "metadata": {},
     "output_type": "execute_result"
    }
   ],
   "source": [
    "Breastcancer_count = df[df['Cancer_Type']=='Breast']\n",
    "Breastcancer_count.value_counts().sum()"
   ]
  },
  {
   "cell_type": "markdown",
   "id": "e2bd4692",
   "metadata": {},
   "source": [
    "6189 PEOPLE HAVE BREAST CANCER"
   ]
  },
  {
   "cell_type": "code",
   "execution_count": null,
   "id": "619fb866",
   "metadata": {},
   "outputs": [],
   "source": []
  },
  {
   "cell_type": "code",
   "execution_count": 102,
   "id": "1c38e3e9",
   "metadata": {},
   "outputs": [
    {
     "data": {
      "text/plain": [
       "np.int64(6376)"
      ]
     },
     "execution_count": 102,
     "metadata": {},
     "output_type": "execute_result"
    }
   ],
   "source": [
    "coloncancer_count = df[df['Cancer_Type']=='Colon']\n",
    "coloncancer_count.value_counts().sum()"
   ]
  },
  {
   "cell_type": "markdown",
   "id": "55c50737",
   "metadata": {},
   "source": [
    "6376 PEOPLE HAVE COLON CANCER"
   ]
  },
  {
   "cell_type": "code",
   "execution_count": null,
   "id": "b8645437",
   "metadata": {},
   "outputs": [],
   "source": []
  },
  {
   "cell_type": "code",
   "execution_count": 103,
   "id": "9dd39078",
   "metadata": {},
   "outputs": [
    {
     "data": {
      "text/plain": [
       "np.int64(6231)"
      ]
     },
     "execution_count": 103,
     "metadata": {},
     "output_type": "execute_result"
    }
   ],
   "source": [
    "skincancer_count = df[df['Cancer_Type']=='Skin']\n",
    "skincancer_count.value_counts().sum()"
   ]
  },
  {
   "cell_type": "markdown",
   "id": "242b590a",
   "metadata": {},
   "source": [
    "6231 PEOPLE HAVE SKIN CANCER"
   ]
  },
  {
   "cell_type": "code",
   "execution_count": null,
   "id": "e7c3242a",
   "metadata": {},
   "outputs": [],
   "source": []
  },
  {
   "cell_type": "code",
   "execution_count": 104,
   "id": "1c7763ba",
   "metadata": {},
   "outputs": [
    {
     "data": {
      "text/plain": [
       "np.int64(6222)"
      ]
     },
     "execution_count": 104,
     "metadata": {},
     "output_type": "execute_result"
    }
   ],
   "source": [
    "Cervicalcancer_count = df[df['Cancer_Type']=='Cervical']\n",
    "Cervicalcancer_count.value_counts().sum()"
   ]
  },
  {
   "cell_type": "markdown",
   "id": "fecb6db7",
   "metadata": {},
   "source": [
    "6222 PEOPLE HAVE CERVICAL CANCER"
   ]
  },
  {
   "cell_type": "code",
   "execution_count": null,
   "id": "0d195b3e",
   "metadata": {},
   "outputs": [],
   "source": []
  },
  {
   "cell_type": "code",
   "execution_count": 105,
   "id": "5aba38a1",
   "metadata": {},
   "outputs": [
    {
     "data": {
      "text/plain": [
       "np.int64(6308)"
      ]
     },
     "execution_count": 105,
     "metadata": {},
     "output_type": "execute_result"
    }
   ],
   "source": [
    "Prostatecancer_count = df[df['Cancer_Type']=='Prostate']\n",
    "Prostatecancer_count.value_counts().sum()"
   ]
  },
  {
   "cell_type": "markdown",
   "id": "9c17faf0",
   "metadata": {},
   "source": [
    "6308 PEOPLE HAVE PROSTATE CANCER"
   ]
  },
  {
   "cell_type": "code",
   "execution_count": null,
   "id": "c222e4b7",
   "metadata": {},
   "outputs": [],
   "source": []
  },
  {
   "cell_type": "code",
   "execution_count": 106,
   "id": "ca9eab95",
   "metadata": {},
   "outputs": [
    {
     "data": {
      "text/plain": [
       "np.int64(6249)"
      ]
     },
     "execution_count": 106,
     "metadata": {},
     "output_type": "execute_result"
    }
   ],
   "source": [
    "Livercancer_count = df[df['Cancer_Type']=='Liver']\n",
    "Livercancer_count.value_counts().sum()"
   ]
  },
  {
   "cell_type": "markdown",
   "id": "cbbcf3da",
   "metadata": {},
   "source": [
    "6249 PEOPLE HAVE LIVER CANCER"
   ]
  },
  {
   "cell_type": "code",
   "execution_count": 107,
   "id": "aaf4e3bd",
   "metadata": {},
   "outputs": [
    {
     "data": {
      "text/plain": [
       "Patient_ID               0\n",
       "Age                      0\n",
       "Gender                   0\n",
       "Country_Region           0\n",
       "Year                     0\n",
       "Genetic_Risk             0\n",
       "Air_Pollution            0\n",
       "Alcohol_Use              0\n",
       "Smoking                  0\n",
       "Obesity_Level            0\n",
       "Cancer_Type              0\n",
       "Cancer_Stage             0\n",
       "Treatment_Cost_USD       0\n",
       "Survival_Years           0\n",
       "Target_Severity_Score    0\n",
       "dtype: int64"
      ]
     },
     "execution_count": 107,
     "metadata": {},
     "output_type": "execute_result"
    }
   ],
   "source": [
    "df.isna().sum()"
   ]
  },
  {
   "cell_type": "code",
   "execution_count": null,
   "id": "7cbafb09",
   "metadata": {},
   "outputs": [],
   "source": []
  },
  {
   "cell_type": "code",
   "execution_count": 108,
   "id": "b72b7470",
   "metadata": {},
   "outputs": [
    {
     "data": {
      "text/plain": [
       "np.int64(0)"
      ]
     },
     "execution_count": 108,
     "metadata": {},
     "output_type": "execute_result"
    }
   ],
   "source": [
    "df.duplicated().sum()"
   ]
  },
  {
   "cell_type": "code",
   "execution_count": 109,
   "id": "669104ec",
   "metadata": {},
   "outputs": [
    {
     "data": {
      "text/plain": [
       "Age\n",
       "89    660\n",
       "50    666\n",
       "39    666\n",
       "53    668\n",
       "84    668\n",
       "     ... \n",
       "63    757\n",
       "36    758\n",
       "32    766\n",
       "82    777\n",
       "77    785\n",
       "Name: count, Length: 70, dtype: int64"
      ]
     },
     "execution_count": 109,
     "metadata": {},
     "output_type": "execute_result"
    }
   ],
   "source": [
    "cancer_count = df['Age'].value_counts().sort_index()\n",
    "cancer_count.sort_values()"
   ]
  },
  {
   "cell_type": "code",
   "execution_count": 110,
   "id": "5bd182bf",
   "metadata": {},
   "outputs": [
    {
     "data": {
      "text/plain": [
       "Age\n",
       "85    729\n",
       "86    712\n",
       "87    721\n",
       "88    712\n",
       "89    660\n",
       "Name: count, dtype: int64"
      ]
     },
     "execution_count": 110,
     "metadata": {},
     "output_type": "execute_result"
    }
   ],
   "source": [
    "cancer_count.tail()"
   ]
  },
  {
   "cell_type": "code",
   "execution_count": 111,
   "id": "66047826",
   "metadata": {},
   "outputs": [
    {
     "data": {
      "text/plain": [
       "Age\n",
       "20    703\n",
       "21    740\n",
       "22    722\n",
       "23    725\n",
       "24    737\n",
       "Name: count, dtype: int64"
      ]
     },
     "execution_count": 111,
     "metadata": {},
     "output_type": "execute_result"
    }
   ],
   "source": [
    "cancer_count.head()"
   ]
  },
  {
   "cell_type": "code",
   "execution_count": 112,
   "id": "78a1e606",
   "metadata": {},
   "outputs": [
    {
     "data": {
      "image/png": "[encoded data removed]",
      "text/plain": [
       "<Figure size 1000x600 with 1 Axes>"
      ]
     },
     "metadata": {},
     "output_type": "display_data"
    }
   ],
   "source": [
    "cancer_count = df['Age'].value_counts().sort_index()\n",
    "\n",
    "x = cancer_count.index\n",
    "y = cancer_count.values\n",
    "\n",
    "plt.figure(figsize=(10, 6))\n",
    "plt.bar(x, y)\n",
    "plt.plot(x,y, color = 'red', marker  = '*')\n",
    "plt.title('Cancer Frequency Distribution by Age')\n",
    "plt.xlabel('Age')\n",
    "plt.ylabel('Number of Patients')\n",
    "plt.tight_layout()\n",
    "plt.show()\n"
   ]
  },
  {
   "cell_type": "code",
   "execution_count": null,
   "id": "856504d0",
   "metadata": {},
   "outputs": [],
   "source": []
  },
  {
   "cell_type": "code",
   "execution_count": 113,
   "id": "9b7e62bb",
   "metadata": {},
   "outputs": [
    {
     "data": {
      "image/png": "[encoded data removed]",
      "text/plain": [
       "<Figure size 800x500 with 1 Axes>"
      ]
     },
     "metadata": {},
     "output_type": "display_data"
    }
   ],
   "source": [
    "gender_counts = df['Gender'].value_counts()\n",
    "\n",
    "\n",
    "x = gender_counts.index          \n",
    "y = gender_counts.values         \n",
    "\n",
    "plt.figure(figsize=(8, 5))\n",
    "plt.bar(x, y, color='skyblue')\n",
    "plt.title('Cancer Frequency Distribution by Gender')\n",
    "plt.xlabel('Gender')\n",
    "plt.ylabel('Number of Patients')\n",
    "plt.tight_layout()\n",
    "plt.show()\n",
    "\n"
   ]
  },
  {
   "cell_type": "code",
   "execution_count": null,
   "id": "06c6163f",
   "metadata": {},
   "outputs": [],
   "source": []
  },
  {
   "cell_type": "code",
   "execution_count": 114,
   "id": "fde53aaa",
   "metadata": {},
   "outputs": [
    {
     "data": {
      "image/png": "[encoded data removed]",
      "text/plain": [
       "<Figure size 800x500 with 1 Axes>"
      ]
     },
     "metadata": {},
     "output_type": "display_data"
    }
   ],
   "source": [
    "cancer_types = df['Cancer_Type'].value_counts()\n",
    "\n",
    "\n",
    "y = cancer_types.values       \n",
    "x = cancer_types.index        \n",
    "\n",
    "plt.figure(figsize=(8, 5))\n",
    "plt.barh(x, y, color='skyblue')\n",
    "plt.title('Cancer Frequency Distribution by Gender')\n",
    "plt.xlabel('Gender')\n",
    "plt.ylabel('Cancer Types')\n",
    "plt.tight_layout()\n",
    "plt.show()"
   ]
  },
  {
   "cell_type": "code",
   "execution_count": 115,
   "id": "2f96f116",
   "metadata": {},
   "outputs": [
    {
     "data": {
      "application/vnd.microsoft.datawrangler.viewer.v0+json": {
       "columns": [
        {
         "name": "index",
         "rawType": "object",
         "type": "string"
        },
        {
         "name": "Age",
         "rawType": "float64",
         "type": "float"
        },
        {
         "name": "Year",
         "rawType": "float64",
         "type": "float"
        },
        {
         "name": "Genetic_Risk",
         "rawType": "float64",
         "type": "float"
        },
        {
         "name": "Air_Pollution",
         "rawType": "float64",
         "type": "float"
        },
        {
         "name": "Alcohol_Use",
         "rawType": "float64",
         "type": "float"
        },
        {
         "name": "Smoking",
         "rawType": "float64",
         "type": "float"
        },
        {
         "name": "Obesity_Level",
         "rawType": "float64",
         "type": "float"
        },
        {
         "name": "Treatment_Cost_USD",
         "rawType": "float64",
         "type": "float"
        },
        {
         "name": "Survival_Years",
         "rawType": "float64",
         "type": "float"
        },
        {
         "name": "Target_Severity_Score",
         "rawType": "float64",
         "type": "float"
        }
       ],
       "conversionMethod": "pd.DataFrame",
       "ref": "aff24081-d35f-4a85-affb-15aaa4162a5a",
       "rows": [
        [
         "Age",
         "1.0",
         "-0.002505437807875271",
         "0.002229057075096838",
         "0.0011013498206172325",
         "-0.004129641358171127",
         "0.0017342421744231428",
         "-0.0027062548749694822",
         "0.003591392704425127",
         "-0.0001474805625475328",
         "-0.0014813327250107124"
        ],
        [
         "Year",
         "-0.002505437807875271",
         "1.0",
         "0.009942219288309948",
         "0.0006487057206075164",
         "0.001933954874632108",
         "-0.006208565744151448",
         "-0.002441224472507053",
         "6.0561324250573005e-05",
         "1.7982192214833793e-05",
         "0.0021088168011409608"
        ],
        [
         "Genetic_Risk",
         "0.002229057075096838",
         "0.009942219288309948",
         "1.0",
         "-0.004491800715097884",
         "-0.0025580204354463797",
         "-0.003718145966702547",
         "0.0035224462303035543",
         "-0.0023654235441408827",
         "0.0017079568541277562",
         "0.47870037190310166"
        ],
        [
         "Air_Pollution",
         "0.0011013498206172325",
         "0.0006487057206075164",
         "-0.004491800715097884",
         "1.0",
         "0.0035105349984702505",
         "0.0035493307363273696",
         "0.00650749909243905",
         "-0.007566027022936012",
         "0.0008930732636496023",
         "0.36696280379759544"
        ],
        [
         "Alcohol_Use",
         "-0.004129641358171127",
         "0.001933954874632108",
         "-0.0025580204354463797",
         "0.0035105349984702505",
         "1.0",
         "-0.002938366903124918",
         "0.007424559674560308",
         "-0.003607762963360051",
         "-0.0005274633033604987",
         "0.3632499018128941"
        ],
        [
         "Smoking",
         "0.0017342421744231428",
         "-0.006208565744151448",
         "-0.003718145966702547",
         "0.0035493307363273696",
         "-0.002938366903124918",
         "1.0",
         "0.005827802955636075",
         "-0.009168651824386646",
         "0.0013710407930159715",
         "0.4844198313788514"
        ],
        [
         "Obesity_Level",
         "-0.0027062548749694822",
         "-0.002441224472507053",
         "0.0035224462303035543",
         "0.00650749909243905",
         "0.007424559674560308",
         "0.005827802955636075",
         "1.0",
         "-0.0012510919268197364",
         "0.009771093874775061",
         "0.25136611327834657"
        ],
        [
         "Treatment_Cost_USD",
         "0.003591392704425127",
         "6.0561324250573005e-05",
         "-0.0023654235441408827",
         "-0.007566027022936012",
         "-0.003607762963360051",
         "-0.009168651824386646",
         "-0.0012510919268197364",
         "1.0",
         "-0.0004294054283022085",
         "-0.46605796256087295"
        ],
        [
         "Survival_Years",
         "-0.0001474805625475328",
         "1.7982192214833793e-05",
         "0.0017079568541277562",
         "0.0008930732636496023",
         "-0.0005274633033604987",
         "0.0013710407930159715",
         "0.009771093874775061",
         "-0.0004294054283022085",
         "1.0",
         "0.004161136673792131"
        ],
        [
         "Target_Severity_Score",
         "-0.0014813327250107124",
         "0.0021088168011409608",
         "0.47870037190310166",
         "0.36696280379759544",
         "0.3632499018128941",
         "0.4844198313788514",
         "0.25136611327834657",
         "-0.46605796256087295",
         "0.004161136673792131",
         "1.0"
        ]
       ],
       "shape": {
        "columns": 10,
        "rows": 10
       }
      },
      "text/html": [
       "<div>\n",
       "<style scoped>\n",
       "    .dataframe tbody tr th:only-of-type {\n",
       "        vertical-align: middle;\n",
       "    }\n",
       "\n",
       "    .dataframe tbody tr th {\n",
       "        vertical-align: top;\n",
       "    }\n",
       "\n",
       "    .dataframe thead th {\n",
       "        text-align: right;\n",
       "    }\n",
       "</style>\n",
       "<table border=\"1\" class=\"dataframe\">\n",
       "  <thead>\n",
       "    <tr style=\"text-align: right;\">\n",
       "      <th></th>\n",
       "      <th>Age</th>\n",
       "      <th>Year</th>\n",
       "      <th>Genetic_Risk</th>\n",
       "      <th>Air_Pollution</th>\n",
       "      <th>Alcohol_Use</th>\n",
       "      <th>Smoking</th>\n",
       "      <th>Obesity_Level</th>\n",
       "      <th>Treatment_Cost_USD</th>\n",
       "      <th>Survival_Years</th>\n",
       "      <th>Target_Severity_Score</th>\n",
       "    </tr>\n",
       "  </thead>\n",
       "  <tbody>\n",
       "    <tr>\n",
       "      <th>Age</th>\n",
       "      <td>1.000000</td>\n",
       "      <td>-0.002505</td>\n",
       "      <td>0.002229</td>\n",
       "      <td>0.001101</td>\n",
       "      <td>-0.004130</td>\n",
       "      <td>0.001734</td>\n",
       "      <td>-0.002706</td>\n",
       "      <td>0.003591</td>\n",
       "      <td>-0.000147</td>\n",
       "      <td>-0.001481</td>\n",
       "    </tr>\n",
       "    <tr>\n",
       "      <th>Year</th>\n",
       "      <td>-0.002505</td>\n",
       "      <td>1.000000</td>\n",
       "      <td>0.009942</td>\n",
       "      <td>0.000649</td>\n",
       "      <td>0.001934</td>\n",
       "      <td>-0.006209</td>\n",
       "      <td>-0.002441</td>\n",
       "      <td>0.000061</td>\n",
       "      <td>0.000018</td>\n",
       "      <td>0.002109</td>\n",
       "    </tr>\n",
       "    <tr>\n",
       "      <th>Genetic_Risk</th>\n",
       "      <td>0.002229</td>\n",
       "      <td>0.009942</td>\n",
       "      <td>1.000000</td>\n",
       "      <td>-0.004492</td>\n",
       "      <td>-0.002558</td>\n",
       "      <td>-0.003718</td>\n",
       "      <td>0.003522</td>\n",
       "      <td>-0.002365</td>\n",
       "      <td>0.001708</td>\n",
       "      <td>0.478700</td>\n",
       "    </tr>\n",
       "    <tr>\n",
       "      <th>Air_Pollution</th>\n",
       "      <td>0.001101</td>\n",
       "      <td>0.000649</td>\n",
       "      <td>-0.004492</td>\n",
       "      <td>1.000000</td>\n",
       "      <td>0.003511</td>\n",
       "      <td>0.003549</td>\n",
       "      <td>0.006507</td>\n",
       "      <td>-0.007566</td>\n",
       "      <td>0.000893</td>\n",
       "      <td>0.366963</td>\n",
       "    </tr>\n",
       "    <tr>\n",
       "      <th>Alcohol_Use</th>\n",
       "      <td>-0.004130</td>\n",
       "      <td>0.001934</td>\n",
       "      <td>-0.002558</td>\n",
       "      <td>0.003511</td>\n",
       "      <td>1.000000</td>\n",
       "      <td>-0.002938</td>\n",
       "      <td>0.007425</td>\n",
       "      <td>-0.003608</td>\n",
       "      <td>-0.000527</td>\n",
       "      <td>0.363250</td>\n",
       "    </tr>\n",
       "    <tr>\n",
       "      <th>Smoking</th>\n",
       "      <td>0.001734</td>\n",
       "      <td>-0.006209</td>\n",
       "      <td>-0.003718</td>\n",
       "      <td>0.003549</td>\n",
       "      <td>-0.002938</td>\n",
       "      <td>1.000000</td>\n",
       "      <td>0.005828</td>\n",
       "      <td>-0.009169</td>\n",
       "      <td>0.001371</td>\n",
       "      <td>0.484420</td>\n",
       "    </tr>\n",
       "    <tr>\n",
       "      <th>Obesity_Level</th>\n",
       "      <td>-0.002706</td>\n",
       "      <td>-0.002441</td>\n",
       "      <td>0.003522</td>\n",
       "      <td>0.006507</td>\n",
       "      <td>0.007425</td>\n",
       "      <td>0.005828</td>\n",
       "      <td>1.000000</td>\n",
       "      <td>-0.001251</td>\n",
       "      <td>0.009771</td>\n",
       "      <td>0.251366</td>\n",
       "    </tr>\n",
       "    <tr>\n",
       "      <th>Treatment_Cost_USD</th>\n",
       "      <td>0.003591</td>\n",
       "      <td>0.000061</td>\n",
       "      <td>-0.002365</td>\n",
       "      <td>-0.007566</td>\n",
       "      <td>-0.003608</td>\n",
       "      <td>-0.009169</td>\n",
       "      <td>-0.001251</td>\n",
       "      <td>1.000000</td>\n",
       "      <td>-0.000429</td>\n",
       "      <td>-0.466058</td>\n",
       "    </tr>\n",
       "    <tr>\n",
       "      <th>Survival_Years</th>\n",
       "      <td>-0.000147</td>\n",
       "      <td>0.000018</td>\n",
       "      <td>0.001708</td>\n",
       "      <td>0.000893</td>\n",
       "      <td>-0.000527</td>\n",
       "      <td>0.001371</td>\n",
       "      <td>0.009771</td>\n",
       "      <td>-0.000429</td>\n",
       "      <td>1.000000</td>\n",
       "      <td>0.004161</td>\n",
       "    </tr>\n",
       "    <tr>\n",
       "      <th>Target_Severity_Score</th>\n",
       "      <td>-0.001481</td>\n",
       "      <td>0.002109</td>\n",
       "      <td>0.478700</td>\n",
       "      <td>0.366963</td>\n",
       "      <td>0.363250</td>\n",
       "      <td>0.484420</td>\n",
       "      <td>0.251366</td>\n",
       "      <td>-0.466058</td>\n",
       "      <td>0.004161</td>\n",
       "      <td>1.000000</td>\n",
       "    </tr>\n",
       "  </tbody>\n",
       "</table>\n",
       "</div>"
      ],
      "text/plain": [
       "                            Age      Year  Genetic_Risk  Air_Pollution  \\\n",
       "Age                    1.000000 -0.002505      0.002229       0.001101   \n",
       "Year                  -0.002505  1.000000      0.009942       0.000649   \n",
       "Genetic_Risk           0.002229  0.009942      1.000000      -0.004492   \n",
       "Air_Pollution          0.001101  0.000649     -0.004492       1.000000   \n",
       "Alcohol_Use           -0.004130  0.001934     -0.002558       0.003511   \n",
       "Smoking                0.001734 -0.006209     -0.003718       0.003549   \n",
       "Obesity_Level         -0.002706 -0.002441      0.003522       0.006507   \n",
       "Treatment_Cost_USD     0.003591  0.000061     -0.002365      -0.007566   \n",
       "Survival_Years        -0.000147  0.000018      0.001708       0.000893   \n",
       "Target_Severity_Score -0.001481  0.002109      0.478700       0.366963   \n",
       "\n",
       "                       Alcohol_Use   Smoking  Obesity_Level  \\\n",
       "Age                      -0.004130  0.001734      -0.002706   \n",
       "Year                      0.001934 -0.006209      -0.002441   \n",
       "Genetic_Risk             -0.002558 -0.003718       0.003522   \n",
       "Air_Pollution             0.003511  0.003549       0.006507   \n",
       "Alcohol_Use               1.000000 -0.002938       0.007425   \n",
       "Smoking                  -0.002938  1.000000       0.005828   \n",
       "Obesity_Level             0.007425  0.005828       1.000000   \n",
       "Treatment_Cost_USD       -0.003608 -0.009169      -0.001251   \n",
       "Survival_Years           -0.000527  0.001371       0.009771   \n",
       "Target_Severity_Score     0.363250  0.484420       0.251366   \n",
       "\n",
       "                       Treatment_Cost_USD  Survival_Years  \\\n",
       "Age                              0.003591       -0.000147   \n",
       "Year                             0.000061        0.000018   \n",
       "Genetic_Risk                    -0.002365        0.001708   \n",
       "Air_Pollution                   -0.007566        0.000893   \n",
       "Alcohol_Use                     -0.003608       -0.000527   \n",
       "Smoking                         -0.009169        0.001371   \n",
       "Obesity_Level                   -0.001251        0.009771   \n",
       "Treatment_Cost_USD               1.000000       -0.000429   \n",
       "Survival_Years                  -0.000429        1.000000   \n",
       "Target_Severity_Score           -0.466058        0.004161   \n",
       "\n",
       "                       Target_Severity_Score  \n",
       "Age                                -0.001481  \n",
       "Year                                0.002109  \n",
       "Genetic_Risk                        0.478700  \n",
       "Air_Pollution                       0.366963  \n",
       "Alcohol_Use                         0.363250  \n",
       "Smoking                             0.484420  \n",
       "Obesity_Level                       0.251366  \n",
       "Treatment_Cost_USD                 -0.466058  \n",
       "Survival_Years                      0.004161  \n",
       "Target_Severity_Score               1.000000  "
      ]
     },
     "execution_count": 115,
     "metadata": {},
     "output_type": "execute_result"
    }
   ],
   "source": [
    "correlation = df.select_dtypes(include=['int64', 'float64']).corr()\n",
    "correlation"
   ]
  },
  {
   "cell_type": "markdown",
   "id": "a55cdb75",
   "metadata": {},
   "source": [
    "Heat Map"
   ]
  },
  {
   "cell_type": "code",
   "execution_count": 116,
   "id": "fdf39f2c",
   "metadata": {},
   "outputs": [
    {
     "data": {
      "image/png": "[encoded data removed]",
      "text/plain": [
       "<Figure size 700x700 with 2 Axes>"
      ]
     },
     "metadata": {},
     "output_type": "display_data"
    }
   ],
   "source": [
    "plt.figure(figsize=(7, 7))\n",
    "sns.heatmap(correlation, annot=True, cmap='coolwarm', fmt=\".2f\")\n",
    "plt.title('Correlation Heatmap')\n",
    "plt.tight_layout()\n",
    "plt.show()"
   ]
  },
  {
   "cell_type": "markdown",
   "id": "1f82d8f5",
   "metadata": {},
   "source": [
    "Lifestyle and environmental factors (Smoking, Alcohol, Pollution) and Genetic Risk are the main contributors to severity.\n",
    "\n",
    "There's no strong correlation between severity and survival years or age.\n",
    "\n",
    "Cost and severity are inversely related, which could point to inequities in treatment or healthcare access."
   ]
  },
  {
   "cell_type": "markdown",
   "id": "e87e18d6",
   "metadata": {},
   "source": [
    "corelation between Target sevierty and cancer stages"
   ]
  },
  {
   "cell_type": "code",
   "execution_count": 117,
   "id": "a88faff4",
   "metadata": {},
   "outputs": [
    {
     "data": {
      "text/plain": [
       "Index(['Patient_ID', 'Age', 'Gender', 'Country_Region', 'Year', 'Genetic_Risk',\n",
       "       'Air_Pollution', 'Alcohol_Use', 'Smoking', 'Obesity_Level',\n",
       "       'Cancer_Type', 'Cancer_Stage', 'Treatment_Cost_USD', 'Survival_Years',\n",
       "       'Target_Severity_Score'],\n",
       "      dtype='object')"
      ]
     },
     "execution_count": 117,
     "metadata": {},
     "output_type": "execute_result"
    }
   ],
   "source": [
    "df.columns"
   ]
  },
  {
   "cell_type": "code",
   "execution_count": 118,
   "id": "844f006f",
   "metadata": {},
   "outputs": [
    {
     "data": {
      "image/png": "[encoded data removed]",
      "text/plain": [
       "<Figure size 700x700 with 1 Axes>"
      ]
     },
     "metadata": {},
     "output_type": "display_data"
    }
   ],
   "source": [
    "plt.figure(figsize=(7, 7))\n",
    "sns.boxplot(x='Cancer_Type', y='Target_Severity_Score', data=df)\n",
    "plt.title('Severity Score by Cancer Type')\n",
    "plt.xlabel('Cancer Type')\n",
    "plt.ylabel('Severity Score')\n",
    "plt.xticks(rotation=45)\n",
    "plt.tight_layout()\n",
    "plt.show()\n"
   ]
  },
  {
   "cell_type": "markdown",
   "id": "5455333e",
   "metadata": {},
   "source": [
    "Every cancer is of same severity\n",
    "\n",
    "Severity is generally moderate (centered around 5) across all cancer types.\n",
    "\n",
    "No single cancer type appears drastically more or less severe in this data.\n",
    "\n",
    "Outliers indicate exceptions, but they are evenly distributed across types.\n",
    "\n",
    "This uniformity might suggest that \"Target Severity Score\" is not cancer-type-specific or may be influenced by other factors like stage, age, or treatment type."
   ]
  },
  {
   "cell_type": "code",
   "execution_count": null,
   "id": "748eb122",
   "metadata": {},
   "outputs": [],
   "source": []
  },
  {
   "cell_type": "code",
   "execution_count": 119,
   "id": "b8ddf2cd",
   "metadata": {},
   "outputs": [
    {
     "data": {
      "image/png": "[encoded data removed]",
      "text/plain": [
       "<Figure size 700x700 with 1 Axes>"
      ]
     },
     "metadata": {},
     "output_type": "display_data"
    }
   ],
   "source": [
    "plt.figure(figsize=(7, 7))\n",
    "sns.boxplot(x='Cancer_Stage', y='Treatment_Cost_USD', data=df)\n",
    "plt.title('Severity Score by Cancer Type')\n",
    "plt.xlabel('Cancer Type')\n",
    "plt.ylabel('Treament Cost')\n",
    "plt.xticks(rotation=45)\n",
    "plt.tight_layout()\n",
    "plt.show()"
   ]
  },
  {
   "cell_type": "markdown",
   "id": "b8537a7b",
   "metadata": {},
   "source": [
    "Treatment cost does not strongly correlate with cancer stage.\n",
    "\n",
    "Patients at early stages (e.g., Stage 0, I) might still face high costs, possibly due to aggressive early treatment, diagnosis procedures, or insurance variation.\n",
    "\n",
    "Advanced stages (e.g., Stage IV) don’t show distinctly higher costs — contrary to what might be expected."
   ]
  },
  {
   "cell_type": "code",
   "execution_count": null,
   "id": "a0689074",
   "metadata": {},
   "outputs": [],
   "source": []
  },
  {
   "cell_type": "code",
   "execution_count": 120,
   "id": "2e795f18",
   "metadata": {},
   "outputs": [
    {
     "data": {
      "text/plain": [
       "array(['UK', 'China', 'Pakistan', 'Brazil', 'Germany', 'Canada', 'USA',\n",
       "       'India', 'Australia', 'Russia'], dtype=object)"
      ]
     },
     "execution_count": 120,
     "metadata": {},
     "output_type": "execute_result"
    }
   ],
   "source": [
    "df['Country_Region'].unique()"
   ]
  },
  {
   "cell_type": "markdown",
   "id": "414da268",
   "metadata": {},
   "source": []
  },
  {
   "cell_type": "markdown",
   "id": "fdc40b9b",
   "metadata": {},
   "source": [
    "no of patients in different country havinng cancer"
   ]
  },
  {
   "cell_type": "code",
   "execution_count": 121,
   "id": "c01438ee",
   "metadata": {},
   "outputs": [
    {
     "data": {
      "text/plain": [
       "np.int64(5060)"
      ]
     },
     "execution_count": 121,
     "metadata": {},
     "output_type": "execute_result"
    }
   ],
   "source": [
    "UK_count = df[df['Country_Region']=='UK']\n",
    "UK_count.value_counts().sum()"
   ]
  },
  {
   "cell_type": "markdown",
   "id": "d611be62",
   "metadata": {},
   "source": []
  },
  {
   "cell_type": "markdown",
   "id": "fdbb48d7",
   "metadata": {},
   "source": []
  },
  {
   "cell_type": "code",
   "execution_count": 122,
   "id": "c5673dd0",
   "metadata": {},
   "outputs": [
    {
     "data": {
      "text/plain": [
       "np.int64(5004)"
      ]
     },
     "execution_count": 122,
     "metadata": {},
     "output_type": "execute_result"
    }
   ],
   "source": [
    "brazil_count = df[df['Country_Region']=='Brazil']\n",
    "brazil_count.value_counts().sum()"
   ]
  },
  {
   "cell_type": "code",
   "execution_count": 123,
   "id": "e32a91ca",
   "metadata": {},
   "outputs": [
    {
     "data": {
      "text/plain": [
       "np.int64(4913)"
      ]
     },
     "execution_count": 123,
     "metadata": {},
     "output_type": "execute_result"
    }
   ],
   "source": [
    "china_count = df[df['Country_Region']=='China']\n",
    "china_count.value_counts().sum()"
   ]
  },
  {
   "cell_type": "code",
   "execution_count": 124,
   "id": "99d11000",
   "metadata": {},
   "outputs": [
    {
     "data": {
      "text/plain": [
       "np.int64(4926)"
      ]
     },
     "execution_count": 124,
     "metadata": {},
     "output_type": "execute_result"
    }
   ],
   "source": [
    "pakistan_count = df[df['Country_Region']=='Pakistan']\n",
    "pakistan_count.value_counts().sum()"
   ]
  },
  {
   "cell_type": "code",
   "execution_count": 125,
   "id": "8428a4c4",
   "metadata": {},
   "outputs": [
    {
     "data": {
      "text/plain": [
       "np.int64(5024)"
      ]
     },
     "execution_count": 125,
     "metadata": {},
     "output_type": "execute_result"
    }
   ],
   "source": [
    "germany_count = df[df['Country_Region']=='Germany']\n",
    "germany_count.value_counts().sum()"
   ]
  },
  {
   "cell_type": "code",
   "execution_count": 126,
   "id": "e004b242",
   "metadata": {},
   "outputs": [
    {
     "data": {
      "text/plain": [
       "np.int64(4864)"
      ]
     },
     "execution_count": 126,
     "metadata": {},
     "output_type": "execute_result"
    }
   ],
   "source": [
    "Canada_count = df[df['Country_Region']=='Canada']\n",
    "Canada_count.value_counts().sum()"
   ]
  },
  {
   "cell_type": "code",
   "execution_count": 127,
   "id": "8ad14554",
   "metadata": {},
   "outputs": [
    {
     "data": {
      "text/plain": [
       "np.int64(5060)"
      ]
     },
     "execution_count": 127,
     "metadata": {},
     "output_type": "execute_result"
    }
   ],
   "source": [
    "USA_count = df[df['Country_Region']=='USA']\n",
    "USA_count.value_counts().sum()"
   ]
  },
  {
   "cell_type": "code",
   "execution_count": 128,
   "id": "c1ba92d9",
   "metadata": {},
   "outputs": [
    {
     "data": {
      "text/plain": [
       "np.int64(5040)"
      ]
     },
     "execution_count": 128,
     "metadata": {},
     "output_type": "execute_result"
    }
   ],
   "source": [
    "India_count = df[df['Country_Region']=='India']\n",
    "India_count.value_counts().sum()"
   ]
  },
  {
   "cell_type": "code",
   "execution_count": 129,
   "id": "465ea5df",
   "metadata": {},
   "outputs": [
    {
     "data": {
      "text/plain": [
       "np.int64(5092)"
      ]
     },
     "execution_count": 129,
     "metadata": {},
     "output_type": "execute_result"
    }
   ],
   "source": [
    "Australia_count = df[df['Country_Region']=='Australia']\n",
    "Australia_count.value_counts().sum()"
   ]
  },
  {
   "cell_type": "code",
   "execution_count": 130,
   "id": "a818b975",
   "metadata": {},
   "outputs": [
    {
     "data": {
      "text/plain": [
       "np.int64(5017)"
      ]
     },
     "execution_count": 130,
     "metadata": {},
     "output_type": "execute_result"
    }
   ],
   "source": [
    "Russia_count = df[df['Country_Region']=='Russia']\n",
    "Russia_count.value_counts().sum()"
   ]
  },
  {
   "cell_type": "code",
   "execution_count": 131,
   "id": "e28bc3d5",
   "metadata": {},
   "outputs": [
    {
     "data": {
      "image/png": "[encoded data removed]",
      "text/plain": [
       "<Figure size 1200x600 with 1 Axes>"
      ]
     },
     "metadata": {},
     "output_type": "display_data"
    }
   ],
   "source": [
    "country_counts = df['Country_Region'].value_counts()\n",
    "\n",
    "\n",
    "plt.figure(figsize=(12, 6))\n",
    "plt.bar(country_counts.index, country_counts.values, color='skyblue')\n",
    "plt.xticks(rotation=45, ha='right')  \n",
    "plt.title('Number of Cancer Patients by Country')\n",
    "plt.xlabel('Country')\n",
    "plt.ylabel('Number of Patients')\n",
    "plt.tight_layout()\n",
    "plt.show()\n"
   ]
  },
  {
   "cell_type": "code",
   "execution_count": null,
   "id": "80b4371f",
   "metadata": {},
   "outputs": [],
   "source": []
  }
 ],
 "metadata": {
  "kernelspec": {
   "display_name": "Python 3",
   "language": "python",
   "name": "python3"
  },
  "language_info": {
   "codemirror_mode": {
    "name": "ipython",
    "version": 3
   },
   "file_extension": ".py",
   "mimetype": "text/x-python",
   "name": "python",
   "nbconvert_exporter": "python",
   "pygments_lexer": "ipython3",
   "version": "3.13.1"
  }
 },
 "nbformat": 4,
 "nbformat_minor": 5
}
